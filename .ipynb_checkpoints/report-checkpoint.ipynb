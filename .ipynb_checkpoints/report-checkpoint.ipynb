{
 "cells": [
  {
   "cell_type": "markdown",
   "id": "connected-highland",
   "metadata": {},
   "source": [
    "# Končno poročilo"
   ]
  },
  {
   "cell_type": "markdown",
   "id": "adequate-footwear",
   "metadata": {},
   "source": [
    "## 1. Uvod in predstavitev problema"
   ]
  },
  {
   "cell_type": "markdown",
   "id": "f84ecafd",
   "metadata": {},
   "source": [
    "Za našo projektno nalogo smo si izbrali problematiko kaznivih dejanj v Sloveniji, pri čemer smo uporabili podatke o zabeleženih zločinih od leta 2009 dalje. Menimo, da je koristno ugotoviti razne povezave in podobnosti med storjenimi kaznivimi dejanji, ker bi to lahko veliko doprineslo k področju kriminalistike. Dandanes, ko je kriminal precej razširjen, je namreč dobro odkriti vzorce, ki se ponavljajo med podobnimi zločini in tako morebiti preprečiti v prihodnje, da bi se podobna kazniva dejanja dogajala še naprej.\n",
    "\n",
    "Naši glavni cilji so zato predvsem iskati zanimive korelacije med zločini, ki so se dogajali, najti podobnosti, ki zares izstopajo ter ugotoviti ključne dejavnike oz. atribute, ki so najpogostejši. Na primer, odkriti, če je kakšna povezava med starostjo storitelja in vrsto zločina, če se določene vrste kaznivih dejanj dogajajajo ob določenih urah, ali kakšna Policijska uprava posebej izstopa z različnimi zločini.\n",
    "\n",
    "Podatke smo našli na portalu [OPSI](https://podatki.gov.si/dataset/mnzpkazniva-dejanja-od-leta-2009-dalje), kjer so za vsako leto od 2009 dalje posebej objavljeni podatki o storjenih kaznivih dejanjih, za katera je policija vložila kazensko ovadbo ali poročilo. Za vsako leto je od 50 000 do 100 000, kar nam bo pripomoglo k res temeljitemu raziskovanju in rudarjenju."
   ]
  },
  {
   "cell_type": "markdown",
   "id": "48d3a63c",
   "metadata": {},
   "source": [
    "## 2. Predstavitev podatkov"
   ]
  },
  {
   "cell_type": "markdown",
   "id": "066b9dcb",
   "metadata": {},
   "source": [
    "Struktura podatkovne baze je sledeča:\n",
    "\n",
    "- **ZaporednaStevilkaKD**: zločini so oštevilčeni z zaporedno številko, pri čemer se štetje vsako leto znova začne z 1.\n",
    "- **MesecStoritve**: datum v formatu MM.LLLL\n",
    "- **UraStoritve**: podana v intervalu\n",
    "- **DanVTednu**\n",
    "- **PUStoritveKD**: policijska uprava, ki je vložila kazensko ovadbo oz. zapisala zapisnik za storjen zločin\n",
    "- **Povratnik**: atribut o tem, ali je osumnljenec policiji znan ali ne (DA ali NE)\n",
    "- **OpisKD**: zakon/člen/odstavek/točko/alinejo akta, ki je bil kršen in naziv\n",
    "- **PoglavjeKD**: poglavje zakonika, ki obravnava določeno kaznivo dejanje\n",
    "- **GospodarskiKriminal**: kaznivo dejanje označeno kot 'SPLOSNA' ali 'GOSPODARSKA'\n",
    "- **OrganiziraniKriminal**: pri kaznivih dejanjih, za katera se je ugotovilo, da niso organizirana, ni zapisa, pri organiziranih pa je vrednost 'ORGANIZIRANA'\n",
    "- **MladoletnikaKriminaliteta**: v primeru, da gre za mladoletniško kriminaliteto, je atribut enak 'MLADOLETNIŠKA', sicer ni zapisa.\n",
    "- **Poskus**: dokončanost kaznivega dejanja (DA ali NE)\n",
    "- **KriminalistinaOznacba1**: oznaka kaznivega dejanja, npr. Z VLOMOM\n",
    "- **KriminalisticnaOznacba2**\n",
    "- **KriminalisticnaOznacba3**\n",
    "- **UporabljenoSredstvo1**: sredstvo, ki se je uporabilo pri storitvi kaznivega dejanja (številka sredstva - sredstvo)\n",
    "- **UporabljenoSredstvo2**\n",
    "- **UporabljenoSredstvo3**\n",
    "- **UporabljenoSredstvo4**\n",
    "- **UpravnaEnotaStoritve**: Upravna enota, ki je obravnavala kaznivo dejanje\n",
    "- **OpisKraja**: podroben opis prizorišča kaznivega dejanja\n",
    "- **LetoZakljucnegaDokumenta**: leto, ko se je primer obravnave kaznivega dejanja zaprl oz. končal\n",
    "- **VrstaZakljucnegaDokumenta**: OVADBA ali POROČILO\n",
    "- **ZaporednaStevilkaOsebeVKD**: številka za štetje in ločevanje oseb, ki so bile udeležene v kaznivem dejanju\n",
    "- **VrstaOsebe**: vloga osebe v kaznivem dejanju (ŽRTEV, OVADENI OSUMLJENEC ali OSTALO)\n",
    "- **StarostniRazred**: interval (razred) starosti, ki mu oseba pripada ob storitvi kaznivega dejanja\n",
    "- **Spol**: ŽENSKI, MOŠKI ali PRAVNA OSEBA\n",
    "- **Drzavljanstvo**: SLOVENSKO ali TUJE\n",
    "- **Poskodba**: če ni prisotna, zapis BREZ POŠKODBE, sicer ni zapisa\n",
    "- **VplivAlkohola**: ali je bila oseba pod vplivom alkohola (NN ali NE)\n",
    "- **VplivMamil**: ali je bila oseba pod vplivom mamil (NN ali NE)\n",
    "- **OrganiziranaZdruzba**: ali je oseba pripadala organizirani združbi (NE ali ni zapisa)\n",
    "- **Skoda**: interval materializirane škode v evrih oz. BREZ, če ni bilo škode"
   ]
  },
  {
   "cell_type": "markdown",
   "id": "ea33ce89",
   "metadata": {},
   "source": [
    "## 3. Analiza podatkov"
   ]
  },
  {
   "cell_type": "markdown",
   "id": "53763b23",
   "metadata": {},
   "source": [
    "## 4. Glavne ugotovitve\n",
    "\n",
    "### Splošne statistike\n",
    "\n",
    "### Osamelci\n",
    "\n",
    "### Korelacije\n",
    "\n",
    "### Napovedni model"
   ]
  },
  {
   "cell_type": "code",
   "execution_count": null,
   "id": "646cdb80",
   "metadata": {},
   "outputs": [],
   "source": []
  }
 ],
 "metadata": {
  "kernelspec": {
   "display_name": "Python 3",
   "language": "python",
   "name": "python3"
  },
  "language_info": {
   "codemirror_mode": {
    "name": "ipython",
    "version": 3
   },
   "file_extension": ".py",
   "mimetype": "text/x-python",
   "name": "python",
   "nbconvert_exporter": "python",
   "pygments_lexer": "ipython3",
   "version": "3.8.5"
  }
 },
 "nbformat": 4,
 "nbformat_minor": 5
}
