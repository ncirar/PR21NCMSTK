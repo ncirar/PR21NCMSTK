{
 "cells": [
  {
   "cell_type": "markdown",
   "id": "verified-cheese",
   "metadata": {},
   "source": [
    "# KAZNIVA DEJANJA V SLOVENIJI\n",
    "\n",
    "## 1. Predprocesiranje podatkov"
   ]
  },
  {
   "cell_type": "markdown",
   "id": "funny-apollo",
   "metadata": {},
   "source": [
    "Podatki so zbrani v 10 csv datotekah, pri čemer vsaka predstavlja po eno leto (od 2009 do 2019). Podatke iz teh datotek najprej zberemo en sam DataFrame. Spremenimo tudi nekatere atribute.   \n",
    "Funkcija *get_df()* se izvaja okoli 20 sekund. "
   ]
  },
  {
   "cell_type": "code",
   "execution_count": 1,
   "id": "opposed-persian",
   "metadata": {},
   "outputs": [],
   "source": [
    "import pandas as pd"
   ]
  },
  {
   "cell_type": "code",
   "execution_count": 2,
   "id": "progressive-ontario",
   "metadata": {},
   "outputs": [
    {
     "data": {
      "text/html": [
       "<div>\n",
       "<style scoped>\n",
       "    .dataframe tbody tr th:only-of-type {\n",
       "        vertical-align: middle;\n",
       "    }\n",
       "\n",
       "    .dataframe tbody tr th {\n",
       "        vertical-align: top;\n",
       "    }\n",
       "\n",
       "    .dataframe thead th {\n",
       "        text-align: right;\n",
       "    }\n",
       "</style>\n",
       "<table border=\"1\" class=\"dataframe\">\n",
       "  <thead>\n",
       "    <tr style=\"text-align: right;\">\n",
       "      <th></th>\n",
       "      <th>ZaporednaStevilkaKD</th>\n",
       "      <th>MesecStoritve</th>\n",
       "      <th>UraStoritve</th>\n",
       "      <th>DanVTednu</th>\n",
       "    </tr>\n",
       "  </thead>\n",
       "  <tbody>\n",
       "    <tr>\n",
       "      <th>0</th>\n",
       "      <td>2009000001</td>\n",
       "      <td>03.2002</td>\n",
       "      <td>0</td>\n",
       "      <td>5</td>\n",
       "    </tr>\n",
       "    <tr>\n",
       "      <th>1</th>\n",
       "      <td>2009000001</td>\n",
       "      <td>03.2002</td>\n",
       "      <td>0</td>\n",
       "      <td>5</td>\n",
       "    </tr>\n",
       "    <tr>\n",
       "      <th>2</th>\n",
       "      <td>2009000002</td>\n",
       "      <td>06.2002</td>\n",
       "      <td>15</td>\n",
       "      <td>2</td>\n",
       "    </tr>\n",
       "    <tr>\n",
       "      <th>3</th>\n",
       "      <td>2009000003</td>\n",
       "      <td>07.2002</td>\n",
       "      <td>17</td>\n",
       "      <td>4</td>\n",
       "    </tr>\n",
       "    <tr>\n",
       "      <th>4</th>\n",
       "      <td>2009000003</td>\n",
       "      <td>07.2002</td>\n",
       "      <td>17</td>\n",
       "      <td>4</td>\n",
       "    </tr>\n",
       "    <tr>\n",
       "      <th>...</th>\n",
       "      <td>...</td>\n",
       "      <td>...</td>\n",
       "      <td>...</td>\n",
       "      <td>...</td>\n",
       "    </tr>\n",
       "    <tr>\n",
       "      <th>1556134</th>\n",
       "      <td>2019061193</td>\n",
       "      <td>11.2019</td>\n",
       "      <td>23</td>\n",
       "      <td>3</td>\n",
       "    </tr>\n",
       "    <tr>\n",
       "      <th>1556135</th>\n",
       "      <td>2019061193</td>\n",
       "      <td>11.2019</td>\n",
       "      <td>23</td>\n",
       "      <td>3</td>\n",
       "    </tr>\n",
       "    <tr>\n",
       "      <th>1556136</th>\n",
       "      <td>2019061193</td>\n",
       "      <td>11.2019</td>\n",
       "      <td>23</td>\n",
       "      <td>3</td>\n",
       "    </tr>\n",
       "    <tr>\n",
       "      <th>1556137</th>\n",
       "      <td>2019061194</td>\n",
       "      <td>09.2016</td>\n",
       "      <td>0</td>\n",
       "      <td>5</td>\n",
       "    </tr>\n",
       "    <tr>\n",
       "      <th>1556138</th>\n",
       "      <td>2019061194</td>\n",
       "      <td>09.2016</td>\n",
       "      <td>0</td>\n",
       "      <td>5</td>\n",
       "    </tr>\n",
       "  </tbody>\n",
       "</table>\n",
       "<p>1556139 rows × 4 columns</p>\n",
       "</div>"
      ],
      "text/plain": [
       "         ZaporednaStevilkaKD MesecStoritve  UraStoritve  DanVTednu\n",
       "0                 2009000001       03.2002            0          5\n",
       "1                 2009000001       03.2002            0          5\n",
       "2                 2009000002       06.2002           15          2\n",
       "3                 2009000003       07.2002           17          4\n",
       "4                 2009000003       07.2002           17          4\n",
       "...                      ...           ...          ...        ...\n",
       "1556134           2019061193       11.2019           23          3\n",
       "1556135           2019061193       11.2019           23          3\n",
       "1556136           2019061193       11.2019           23          3\n",
       "1556137           2019061194       09.2016            0          5\n",
       "1556138           2019061194       09.2016            0          5\n",
       "\n",
       "[1556139 rows x 4 columns]"
      ]
     },
     "execution_count": 2,
     "metadata": {},
     "output_type": "execute_result"
    }
   ],
   "source": [
    "def parse_ura_storitve(series):\n",
    "    ure = []\n",
    "    for i, val in series.items():\n",
    "        ure.append(int(val.split(\":\")[0]))\n",
    "    return pd.Series(ure, dtype=\"int\")\n",
    "\n",
    "def get_df():\n",
    "    df = None\n",
    "    df_set = False\n",
    "    for year in range(2009, 2020):\n",
    "        df_temp = pd.read_csv(\"../PR21NCMSTK/data/kd\" + str(year) + \".csv\",\n",
    "                              delimiter=\";\",\n",
    "                              encoding=\"windows-1250\",\n",
    "                              low_memory=False,\n",
    "                              dtype={\"DatumStoritve\": \"string\",\n",
    "                                     \"MesecStoritve\": \"string\",\n",
    "                                     \"UraStoritve\": \"string\",})\n",
    "        df_temp.iloc[:, 0] = df_temp.iloc[:, 0] + year * 1000_000\n",
    "        df_temp.iloc[:, 2] = parse_ura_storitve(df_temp.iloc[:, 2])\n",
    "        df_temp.iloc[:, 3] = df_temp.iloc[:, 3].replace([\"PONEDELJEK\",\n",
    "                                                         \"TOREK\",\n",
    "                                                         \"SREDA\",\n",
    "                                                         \"ČETRTEK\",\n",
    "                                                         \"PETEK\",\n",
    "                                                         \"SOBOTA\",\n",
    "                                                         \"NEDELJA\"], [1, 2, 3, 4, 5, 6, 7]).astype(int)\n",
    "\n",
    "        df_temp.iloc[:, 5] = df_temp.iloc[:, 5].replace([\"DA\", \"NE\"], [1, 0]).astype(\"bool\")\n",
    "        df_temp.iloc[:, 8] = df_temp.iloc[:, 8].replace([\"GOSPODARSKA\", \"SPLOŠNA\"], [1, 0]).astype(\"bool\")\n",
    "        df_temp.iloc[:, 9] = df_temp.iloc[:, 9].replace([\"ORGANIZIRANA\", \" \"], [1, 0]).astype(\"bool\")\n",
    "        df_temp.iloc[:, 10] = df_temp.iloc[:, 10].replace([\"MLADOLETNIŠKA\", \" \"], [1, 0]).astype(\"bool\")\n",
    "        df_temp.iloc[:, 11] = df_temp.iloc[:, 11].replace([\"DA\", \"NE\"], [1, 0]).astype(\"bool\")\n",
    "\n",
    "\n",
    "        df_temp.columns = [\"ZaporednaStevilkaKD\",\n",
    "                          \"MesecStoritve\",\n",
    "                          \"UraStoritve\",\n",
    "                          \"DanVTednu\",\n",
    "                          \"PUStoritveKD\",\n",
    "                          \"Povratnik\",\n",
    "                          \"OpisKD\",\n",
    "                          \"PoglavjeKD\",\n",
    "                          \"GospodarskiKriminal\",\n",
    "                          \"OrganiziranKriminal\",\n",
    "                          \"MladoletniskaKriminaliteta\",\n",
    "                          \"Poskus\",\n",
    "                          \"KriminalisticnaOznacba1\",\n",
    "                          \"KriminalisticnaOznacba2\",\n",
    "                          \"KriminalisticnaOznacba3\",\n",
    "                          \"UporabljenoSredstvo1\",\n",
    "                          \"UporabljenoSredstvo2\",\n",
    "                          \"UporabljenoSredstvo3\",\n",
    "                          \"UporabljenoSredstvo4\",\n",
    "                           \"UpravnaEnotaStoritve\",\n",
    "                           \"OpisKraja\",\n",
    "                           \"LetoZakljucenegaDokumenta\",\n",
    "                           \"VrstaZakljucenegaDokumenta\",\n",
    "                           \"ZaporednaStevilkaOsebeVKD\",\n",
    "                           \"VrstaOsebe\",\n",
    "                           \"StarostniRazred\",\n",
    "                           \"Spol\",\n",
    "                           \"Drzavljanstvo\",\n",
    "                           \"Poskodba\",\n",
    "                           \"VplivAlkohola\",\n",
    "                           \"VplivMamil\",\n",
    "                           \"OrganiziranaZdruzba\",\n",
    "                           \"Skoda\"\n",
    "                           ]\n",
    "\n",
    "        if not df_set:\n",
    "            df = df_temp\n",
    "            df_set = True\n",
    "        else:\n",
    "            df = df.append(df_temp, ignore_index=True)\n",
    "\n",
    "    return df\n",
    "\n",
    "\n",
    "df = get_df()\n",
    "df.iloc[:, 0:4]"
   ]
  },
  {
   "cell_type": "code",
   "execution_count": 3,
   "id": "broad-admission",
   "metadata": {},
   "outputs": [],
   "source": [
    "def fill_nan(n):\n",
    "    df.iloc[:, n] = df.iloc[:, n].fillna(\"Ni podatka\")\n",
    "\n",
    "def print_atribut(n):\n",
    "    print(\"- Vrednosti:\")\n",
    "    print(df.iloc[:, n], end=\"\\n\\n\")\n",
    "    print(\"- Število neznanih vrednosti: \")\n",
    "    print(df.loc[df.iloc[:, n].isnull()].iloc[:, n].size, end=\"\\n\\n\")\n",
    "    print(\"- Unikatne vrednosti: \")\n",
    "    print(df.iloc[:, n].unique())\n",
    "    print(len(df.iloc[:, n].unique()))\n",
    "\n",
    "for i in range(33): fill_nan(i)"
   ]
  },
  {
   "cell_type": "code",
   "execution_count": 4,
   "id": "fundamental-halloween",
   "metadata": {},
   "outputs": [
    {
     "name": "stdout",
     "output_type": "stream",
     "text": [
      "- Vrednosti:\n",
      "0                   1\n",
      "1                   2\n",
      "2                   1\n",
      "3                   1\n",
      "4                   2\n",
      "              ...    \n",
      "1556134    6.1193e+07\n",
      "1556135    6.1193e+07\n",
      "1556136    6.1193e+07\n",
      "1556137    6.1194e+07\n",
      "1556138    6.1194e+07\n",
      "Name: ZaporednaStevilkaOsebeVKD, Length: 1556139, dtype: object\n",
      "\n",
      "- Število neznanih vrednosti: \n",
      "0\n",
      "\n",
      "- Unikatne vrednosti: \n",
      "[1.0 2.0 3.0 ... 61168003.0 61186003.0 61193005.0]\n",
      "326676\n"
     ]
    }
   ],
   "source": [
    "print_atribut(23)"
   ]
  },
  {
   "cell_type": "markdown",
   "id": "based-computer",
   "metadata": {},
   "source": [
    "#### Novi atributi\n",
    "*0. ZaporednaStevilkaKD*: \n",
    "- Tip: int64. \n",
    "- Vrednosti: od 2009000001 do 2019061194. \n",
    "- Obrazložitev: Ker se zaporedne številke resetirajo vsako leto, jih spremenimo tako, da se začnejo z letom, ko je bil podatek zapisan v tabelo (npr. ID 61193 iz leta 2019 postane 2019061193). Ni neznanoh vrednosti.\n",
    "\n",
    "*1. MesecStoritve*: \n",
    "-  Tip: string. \n",
    "- Primer vrednosti: 03.2002\n",
    "- Ni neznanih vrednosti. \n",
    "\n",
    "*2. UraStoritve*: \n",
    "- Tip: int64 \n",
    "- Vrednosti: 0 - 23\n",
    "- Ni neznanih vrednosti. \n",
    "\n",
    "*3. DanVTednu*: \n",
    "- int64 \n",
    "- Vrednosti: 0 - 7\n",
    "- Ni neznanih vrednosti. \n",
    "\n",
    "*4. PUStoritveKD*: \n",
    "- Tip: string \n",
    "- Primer vrednosti: \"PU LJUBLJANA\"\n",
    " \n",
    "*5. Povratnik*: \n",
    "- Tip: bool\n",
    "- Ni neznanih vrednosti. \n",
    "\n",
    "*6. OpisKD*: \n",
    "- Tip: string\n",
    "- Primer vrednosti: \"KZ12/204*/2/S/ - TATVINA\"\n",
    "- Ni neznanih vrednosti. \n",
    "\n",
    "*7. PoglavjeKD*: \n",
    "- Tip: object\n",
    "- Primer vrednosti: \"KD ZOPER GOSPODARSTVO\"\n",
    "- Zelo malo neznanih vrednosti\n",
    "- Neznane vrednosti nastavimo na \"unknown\"\n",
    "\n",
    "*8. GospodarskiKriminal*:\n",
    "- Tip: bool\n",
    "- Ni neznanih vrednosti\n",
    "- Obrazložitev: če gre za gospodarski krimal, je vrednost atributa True\n",
    "\n",
    "*9. OrganiziraniKriminal*:\n",
    "- Tip: bool\n",
    "- Ni neznanih vrednosti\n",
    "\n",
    "*10. MladoletnikaKriminaliteta*: \n",
    "- Tip: bool\n",
    "- Ni neznanih vrednosti\n",
    "\n",
    "*11. Poskus*: \n",
    "- Tip: bool\n",
    "- Ni neznanih vrednosti\n",
    "\n",
    "*12. KriminalistinaOznacba1*:\n",
    "- Tip: object\n",
    "- Primer vrednosti: \"DAVKA NA DODANO VREDNOST - O\"\n",
    "- Neznane vrednosti nastavimo na \"unknown\"\n",
    "\n",
    "*13. KriminalisticnaOznacba2*\n",
    "\n",
    "*14. KriminalisticnaOznacba3*\n",
    "\n",
    "*15. UporabljenoSredstvo1*:\n",
    "- Tip: Object\n",
    "- Primer vrednosti: \"152-LISTINE\"\n",
    "- Neznane vrednosti nastavimo na \"unknown\" \n",
    "\n",
    "*16. UporabljenoSredstvo2*\n",
    "\n",
    "*17. UporabljenoSredstvo3*\n",
    "\n",
    "*18. UporabljenoSredstvo4*\n",
    "\n",
    "*19. UpravnaEnotaStoritve*: \n",
    "- Tip: Object\n",
    "- Primer vrednosti: \"CELJE\"\n",
    "- Ni neznanih vrednosti\n",
    "\n",
    "*20. OpisKraja*: \n",
    "- Tip: Object\n",
    "\n",
    "*21. LetoZakljucnegaDokumenta*: \n",
    "- Tip: int64\n",
    "- Vrednosti: 2009 - 2019\n",
    "- Ni neznanih vrednosti\n",
    "\n",
    "*22. VrstaZakljucnegaDokumenta*: \n",
    "- Tip: Object\n",
    "\n",
    "*23. ZaporednaStevilkaOsebeVKD*: \n",
    "- Tip: float64\n",
    "\n",
    "*24. VrstaOsebe*: \n",
    "- Tip: object\n",
    "\n",
    "*25. StarostniRazred*: \n",
    "- Tip: object\n",
    "\n",
    "*26. Spol*: \n",
    "- Tip: object\n",
    "\n",
    "*27. Drzavljanstvo*: \n",
    "- Tip: object\n",
    "\n",
    "*28. Poskodba*: \n",
    "- Tip: object\n",
    "\n",
    "*29. VplivAlkohola*: \n",
    "- Tip: object\n",
    "\n",
    "*30. VplivMamil*: \n",
    "- Tip: object\n",
    "\n",
    "*31. OrganiziranaZdruzba*: \n",
    "- Tip: object\n",
    "\n",
    "*32. Skoda*: \n",
    "- Tip: object\n"
   ]
  },
  {
   "cell_type": "markdown",
   "id": "brief-china",
   "metadata": {},
   "source": [
    "## 2. Analiza podatkov"
   ]
  },
  {
   "cell_type": "markdown",
   "id": "dying-desperate",
   "metadata": {},
   "source": [
    "### Ali je število zločinov odvisno od dneva v tednu?"
   ]
  },
  {
   "cell_type": "code",
   "execution_count": 5,
   "id": "falling-horizontal",
   "metadata": {},
   "outputs": [],
   "source": [
    "import numpy as np\n",
    "%matplotlib inline\n",
    "%config InlineBackend.figure_formats = ['jpg']\n",
    "import matplotlib\n",
    "matplotlib.figure.Figure.__repr__ = lambda self: (\n",
    "    f\"<{self.__class__.__name__} size {self.bbox.size[0]:g}\"\n",
    "    f\"x{self.bbox.size[1]:g} with {len(self.axes)} Axes>\")\n",
    "import matplotlib.pyplot as plt"
   ]
  },
  {
   "cell_type": "code",
   "execution_count": 6,
   "id": "8818cedb",
   "metadata": {},
   "outputs": [
    {
     "data": {
      "text/plain": [
       "array([[2009000001, '03.2002', 0, ..., 'NN', 'NE', 'BREZ'],\n",
       "       [2009000001, '03.2002', 0, ..., 'NN', 'NE', '100 - 1.000 EUR'],\n",
       "       [2009000002, '06.2002', 15, ..., 'NN', 'NE', '100 - 1.000 EUR'],\n",
       "       ...,\n",
       "       [2019061193, '11.2019', 23, ..., 'NN', 'NE', 'DO 100 EUR'],\n",
       "       [2019061194, '09.2016', 0, ..., 'NN', 'NE', 'BREZ'],\n",
       "       [2019061194, '09.2016', 0, ..., 'NN', 'NE', 'BREZ']], dtype=object)"
      ]
     },
     "execution_count": 6,
     "metadata": {},
     "output_type": "execute_result"
    }
   ],
   "source": [
    "df2 = df.to_numpy()\n",
    "df2"
   ]
  },
  {
   "cell_type": "markdown",
   "id": "b6d96bcb",
   "metadata": {},
   "source": [
    "Najprej nas zanima, na kateri dan v tednu se zgodi največ zločinov skozi vsa dokumentirana leta."
   ]
  },
  {
   "cell_type": "code",
   "execution_count": 7,
   "id": "2713f2be",
   "metadata": {},
   "outputs": [
    {
     "name": "stdout",
     "output_type": "stream",
     "text": [
      "Število storjenih zločinov na določen dan v tednu:\n",
      "1 : 246792\n",
      "2 : 235250\n",
      "3 : 240599\n",
      "4 : 238423\n",
      "5 : 250866\n",
      "6 : 184755\n",
      "7 : 159454\n"
     ]
    }
   ],
   "source": [
    "pojavitevDnevi = dict()\n",
    "for i in range(1, 8):\n",
    "    pojavitevDnevi[i] = 0\n",
    "\n",
    "for row in df2:\n",
    "    pojavitevDnevi[row[3]] += 1\n",
    "\n",
    "print(\"Število storjenih zločinov na določen dan v tednu:\")\n",
    "for dan in pojavitevDnevi:\n",
    "    print(dan,\":\", pojavitevDnevi[dan])"
   ]
  },
  {
   "cell_type": "code",
   "execution_count": 8,
   "id": "03803faa",
   "metadata": {},
   "outputs": [
    {
     "data": {
      "text/plain": [
       "Text(0.5, 1.0, 'Prikaz števila storjenih zločinov na določen dan v tednu')"
      ]
     },
     "execution_count": 8,
     "metadata": {},
     "output_type": "execute_result"
    },
    {
     "data": {
      "image/jpeg": "[encoded data removed]",
      "text/plain": [
       "<Figure size 1440x720 with 1 Axes>"
      ]
     },
     "metadata": {
      "needs_background": "light"
     },
     "output_type": "display_data"
    }
   ],
   "source": [
    "plt.figure(figsize=(20,10))\n",
    "plt.bar(pojavitevDnevi.keys(), pojavitevDnevi.values(), color='b')\n",
    "plt.xlabel('Dan v tednu')\n",
    "plt.ylabel('Število zločinov')\n",
    "plt.title('Prikaz števila storjenih zločinov na določen dan v tednu')"
   ]
  },
  {
   "cell_type": "markdown",
   "id": "2ad507b8",
   "metadata": {},
   "source": [
    "Iz grafa je razvidno, da je največ zločinov storjenih ob petkih, najmanj pa med vikendom."
   ]
  },
  {
   "cell_type": "markdown",
   "id": "lesbian-builder",
   "metadata": {},
   "source": [
    "### Katera so najbolj pogosta kazniva dejanja?"
   ]
  },
  {
   "cell_type": "code",
   "execution_count": 9,
   "id": "under-accountability",
   "metadata": {},
   "outputs": [
    {
     "data": {
      "text/plain": [
       "<BarContainer object of 20 artists>"
      ]
     },
     "execution_count": 9,
     "metadata": {},
     "output_type": "execute_result"
    },
    {
     "data": {
      "image/jpeg": "[encoded data removed]",
      "text/plain": [
       "<Figure size 432x288 with 1 Axes>"
      ]
     },
     "metadata": {
      "needs_background": "light"
     },
     "output_type": "display_data"
    }
   ],
   "source": [
    "from collections import defaultdict\n",
    "ids = np.array(df.iloc[:, 6])\n",
    "d = defaultdict(int)\n",
    "for i in ids:\n",
    "    d[i] += 1\n",
    "d2 = defaultdict(int)\n",
    "for k, v in d.items():\n",
    "    d2[k.split(\" - \")[-1]] += v\n",
    "\n",
    "arr = sorted([(v, k) for k, v in d2.items()])[-20:]\n",
    "amounts = [amount for amount, title in arr]\n",
    "titles = [title for amount, title in arr]\n",
    "\n",
    "fig, ax = plt.subplots()\n",
    "ax.barh(titles, amounts)"
   ]
  },
  {
   "cell_type": "markdown",
   "id": "announced-slovakia",
   "metadata": {},
   "source": [
    "## 3. Nasilje v kaznivih dejanjih"
   ]
  },
  {
   "cell_type": "markdown",
   "id": "skilled-grade",
   "metadata": {},
   "source": [
    "### 3.1 Analiza najbolj nasilnih dejanj"
   ]
  },
  {
   "cell_type": "code",
   "execution_count": 10,
   "id": "corporate-stranger",
   "metadata": {},
   "outputs": [
    {
     "name": "stdout",
     "output_type": "stream",
     "text": [
      "Tipov kaznvih dejanj: 82\n"
     ]
    }
   ],
   "source": [
    "# Grupiranje po podskupinah\n",
    "\n",
    "poskodbe = df.loc[(~df['Poskodba'].isin(['Ni podatka', 'BREZ POŠKODBE']))]\n",
    "\n",
    "kaznivaDejanja = set()\n",
    "\n",
    "for i, opisKD in poskodbe[['OpisKD']].iterrows():\n",
    "    normalisedValue = opisKD.values[0].split(' - ')[-1].strip()\n",
    "    kaznivaDejanja.add(normalisedValue)\n",
    "    poskodbe.at[i, 'OpisKD'] = normalisedValue\n",
    "print(f\"Tipov kaznvih dejanj: {len(kaznivaDejanja)}\")"
   ]
  },
  {
   "cell_type": "code",
   "execution_count": 11,
   "id": "laughing-geography",
   "metadata": {
    "scrolled": true
   },
   "outputs": [
    {
     "data": {
      "text/html": [
       "<div>\n",
       "<style scoped>\n",
       "    .dataframe tbody tr th:only-of-type {\n",
       "        vertical-align: middle;\n",
       "    }\n",
       "\n",
       "    .dataframe tbody tr th {\n",
       "        vertical-align: top;\n",
       "    }\n",
       "\n",
       "    .dataframe thead th {\n",
       "        text-align: right;\n",
       "    }\n",
       "</style>\n",
       "<table border=\"1\" class=\"dataframe\">\n",
       "  <thead>\n",
       "    <tr style=\"text-align: right;\">\n",
       "      <th></th>\n",
       "      <th>OpisKD</th>\n",
       "      <th>Poskodba</th>\n",
       "    </tr>\n",
       "  </thead>\n",
       "  <tbody>\n",
       "    <tr>\n",
       "      <th>23</th>\n",
       "      <td>LAHKA TELESNA POŠKODBA</td>\n",
       "      <td>17605</td>\n",
       "    </tr>\n",
       "    <tr>\n",
       "      <th>43</th>\n",
       "      <td>NASILNIŠTVO</td>\n",
       "      <td>3169</td>\n",
       "    </tr>\n",
       "    <tr>\n",
       "      <th>7</th>\n",
       "      <td>HUDA TELESNA POŠKODBA</td>\n",
       "      <td>1752</td>\n",
       "    </tr>\n",
       "    <tr>\n",
       "      <th>40</th>\n",
       "      <td>NASILJE V DRUŽINI</td>\n",
       "      <td>1613</td>\n",
       "    </tr>\n",
       "    <tr>\n",
       "      <th>111</th>\n",
       "      <td>PREPREČITEV URADNEGA DEJANJA ALI MAŠČEVANJE UR...</td>\n",
       "      <td>558</td>\n",
       "    </tr>\n",
       "  </tbody>\n",
       "</table>\n",
       "</div>"
      ],
      "text/plain": [
       "                                                OpisKD  Poskodba\n",
       "23                              LAHKA TELESNA POŠKODBA     17605\n",
       "43                                         NASILNIŠTVO      3169\n",
       "7                                HUDA TELESNA POŠKODBA      1752\n",
       "40                                   NASILJE V DRUŽINI      1613\n",
       "111  PREPREČITEV URADNEGA DEJANJA ALI MAŠČEVANJE UR...       558"
      ]
     },
     "execution_count": 11,
     "metadata": {},
     "output_type": "execute_result"
    }
   ],
   "source": [
    "top5_dejanja_s_poskodbo = poskodbe.groupby(['OpisKD', 'Poskodba'], as_index=False)['Poskodba'].count()\n",
    "top5_dejanja_s_poskodbo = top5_dejanja_s_poskodbo.sort_values(by=\"Poskodba\", ascending=False).head(5)\n",
    "top5_dejanja_s_poskodbo"
   ]
  },
  {
   "cell_type": "markdown",
   "id": "julian-invention",
   "metadata": {},
   "source": [
    "Iz zgornje tabele smo ugotovili, da se že posamezna kazniva klasificirajo po tipu poškodbe, ki je bila zadana žrtvi med dejanjem. Da bi dobili boljši vpogled v druge oblike nasilja, smo iz množice odvzeli opise kaznivih dejanj, ki so poimenovani po tipu poškodbe."
   ]
  },
  {
   "cell_type": "markdown",
   "id": "changed-occurrence",
   "metadata": {},
   "source": [
    "### 3.2 Napovedni model poškodbe ob kaznivem dejanju"
   ]
  },
  {
   "cell_type": "code",
   "execution_count": 12,
   "id": "remarkable-style",
   "metadata": {},
   "outputs": [],
   "source": [
    "from sklearn.model_selection import train_test_split\n",
    "from sklearn.linear_model import RidgeClassifier\n",
    "import squarify\n",
    "import json"
   ]
  },
  {
   "cell_type": "code",
   "execution_count": 13,
   "id": "abroad-vulnerability",
   "metadata": {},
   "outputs": [
    {
     "name": "stdout",
     "output_type": "stream",
     "text": [
      "Za učenje modele bomo uporabili zgolj tiste primere za katere imamo podatek o poškodbi žrtve. Takih primerov je 625416\n"
     ]
    }
   ],
   "source": [
    "poskodbe_df = df.loc[(df['Poskodba'] != 'Ni podatka')]\n",
    "print(f\"Za učenje modele bomo uporabili zgolj tiste primere za katere imamo podatek o poškodbi žrtve. Takih primerov je {poskodbe_df.shape[0]}\")"
   ]
  },
  {
   "cell_type": "code",
   "execution_count": 14,
   "id": "minus-surgery",
   "metadata": {},
   "outputs": [],
   "source": [
    "def tabelaricniPrikazPoskodb(df):\n",
    "    t_df = df.groupby('Poskodba')['Poskodba'].count()\n",
    "    vse_poskodbe = poskodbe_df.shape[0];\n",
    "    M = []\n",
    "    for item in t_df.iteritems():\n",
    "        poskodba, stevilo = item\n",
    "        delez = stevilo / vse_poskodbe * 100;\n",
    "        row = [poskodba, stevilo, delez]\n",
    "        M.append(row)\n",
    "    tab = pd.DataFrame(M, columns=[\"Poskodba\", \"Število poškodb\", \"Delež (v %)\"])\n",
    "    return tab.sort_values(ascending=False, by=\"Delež (v %)\").reset_index(drop=True)\n",
    "\n",
    "def izrisTreemapaPoskodb(df, tab, colors = ['steelblue', 'lightcoral', 'peachpuff', 'black', 'orange']):\n",
    "    x = df.groupby('Poskodba').size()\n",
    "\n",
    "    labels = []\n",
    "    values = []\n",
    "\n",
    "    for indx, row in tab.iterrows():\n",
    "        poskodba, stevilo, delez = row.values\n",
    "        labels.append(f\"{poskodba} ({str(stevilo)} | {delez:.1f}%)\")\n",
    "        values.append(delez)\n",
    "\n",
    "    plt.figure(figsize=(12,10), dpi= 80)\n",
    "    ax = squarify.plot(sizes=values, label=[], color=colors, alpha=.8)\n",
    "    plt.title('Porazdelitev število kaznivih dejanj glede na vrsto poškodbe')\n",
    "    plt.axis('off')\n",
    "\n",
    "    plt.legend(handles=ax.containers[0], labels=labels)\n",
    "\n",
    "    plt.show()"
   ]
  },
  {
   "cell_type": "code",
   "execution_count": 15,
   "id": "boolean-tuner",
   "metadata": {},
   "outputs": [
    {
     "name": "stdout",
     "output_type": "stream",
     "text": [
      "Tabelaričen prikaz število kaznivih dejanj glede na vrsto poškodbe.\n",
      "\n",
      "                    Poskodba  Število poškodb  Delež (v %)\n",
      "0              BREZ POŠKODBE           596640    95.398902\n",
      "1     LAHKA TELESNA POŠKODBA            25398     4.060977\n",
      "2      HUDA TELESNA POŠKODBA             2609     0.417162\n",
      "3            SMRTNA POŠKODBA              627     0.100253\n",
      "4  POSEBNO HUDA TEL.POŠKODBA              142     0.022705\n"
     ]
    }
   ],
   "source": [
    "print(\"Tabelaričen prikaz število kaznivih dejanj glede na vrsto poškodbe.\\n\")\n",
    "tab = tabelaricniPrikazPoskodb(poskodbe_df)\n",
    "print(tab)"
   ]
  },
  {
   "cell_type": "code",
   "execution_count": 16,
   "id": "presidential-trading",
   "metadata": {
    "scrolled": true
   },
   "outputs": [
    {
     "data": {
      "image/jpeg": "[encoded data removed]",
      "text/plain": [
       "<Figure size 960x800 with 1 Axes>"
      ]
     },
     "metadata": {
      "needs_background": "light"
     },
     "output_type": "display_data"
    }
   ],
   "source": [
    "izrisTreemapaPoskodb(poskodbe_df, tab)"
   ]
  },
  {
   "cell_type": "code",
   "execution_count": 17,
   "id": "welcome-burke",
   "metadata": {},
   "outputs": [
    {
     "name": "stdout",
     "output_type": "stream",
     "text": [
      "Atributi, ki jih bomo uporabili za napoved tipa poškodbe so: ['StarostniRazred' 'Spol' 'UraStoritve' 'DanVTednu']\n",
      "\n",
      "Primer vrednosti:\n"
     ]
    },
    {
     "data": {
      "text/html": [
       "<div>\n",
       "<style scoped>\n",
       "    .dataframe tbody tr th:only-of-type {\n",
       "        vertical-align: middle;\n",
       "    }\n",
       "\n",
       "    .dataframe tbody tr th {\n",
       "        vertical-align: top;\n",
       "    }\n",
       "\n",
       "    .dataframe thead th {\n",
       "        text-align: right;\n",
       "    }\n",
       "</style>\n",
       "<table border=\"1\" class=\"dataframe\">\n",
       "  <thead>\n",
       "    <tr style=\"text-align: right;\">\n",
       "      <th></th>\n",
       "      <th>StarostniRazred</th>\n",
       "      <th>Spol</th>\n",
       "      <th>UraStoritve</th>\n",
       "      <th>DanVTednu</th>\n",
       "    </tr>\n",
       "  </thead>\n",
       "  <tbody>\n",
       "    <tr>\n",
       "      <th>2</th>\n",
       "      <td>44-54</td>\n",
       "      <td>MOŠKI</td>\n",
       "      <td>15</td>\n",
       "      <td>2</td>\n",
       "    </tr>\n",
       "    <tr>\n",
       "      <th>7</th>\n",
       "      <td>54-64</td>\n",
       "      <td>MOŠKI</td>\n",
       "      <td>18</td>\n",
       "      <td>2</td>\n",
       "    </tr>\n",
       "    <tr>\n",
       "      <th>8</th>\n",
       "      <td>24-34</td>\n",
       "      <td>MOŠKI</td>\n",
       "      <td>18</td>\n",
       "      <td>2</td>\n",
       "    </tr>\n",
       "    <tr>\n",
       "      <th>10</th>\n",
       "      <td>14-16</td>\n",
       "      <td>MOŠKI</td>\n",
       "      <td>16</td>\n",
       "      <td>6</td>\n",
       "    </tr>\n",
       "    <tr>\n",
       "      <th>11</th>\n",
       "      <td>24-34</td>\n",
       "      <td>ŽENSKI</td>\n",
       "      <td>15</td>\n",
       "      <td>1</td>\n",
       "    </tr>\n",
       "    <tr>\n",
       "      <th>...</th>\n",
       "      <td>...</td>\n",
       "      <td>...</td>\n",
       "      <td>...</td>\n",
       "      <td>...</td>\n",
       "    </tr>\n",
       "    <tr>\n",
       "      <th>1556131</th>\n",
       "      <td>34-44</td>\n",
       "      <td>ŽENSKI</td>\n",
       "      <td>0</td>\n",
       "      <td>2</td>\n",
       "    </tr>\n",
       "    <tr>\n",
       "      <th>1556133</th>\n",
       "      <td>34-44</td>\n",
       "      <td>ŽENSKI</td>\n",
       "      <td>23</td>\n",
       "      <td>3</td>\n",
       "    </tr>\n",
       "    <tr>\n",
       "      <th>1556134</th>\n",
       "      <td>16-18</td>\n",
       "      <td>ŽENSKI</td>\n",
       "      <td>23</td>\n",
       "      <td>3</td>\n",
       "    </tr>\n",
       "    <tr>\n",
       "      <th>1556135</th>\n",
       "      <td>07-14</td>\n",
       "      <td>ŽENSKI</td>\n",
       "      <td>23</td>\n",
       "      <td>3</td>\n",
       "    </tr>\n",
       "    <tr>\n",
       "      <th>1556136</th>\n",
       "      <td>00-07</td>\n",
       "      <td>ŽENSKI</td>\n",
       "      <td>23</td>\n",
       "      <td>3</td>\n",
       "    </tr>\n",
       "  </tbody>\n",
       "</table>\n",
       "<p>625416 rows × 4 columns</p>\n",
       "</div>"
      ],
      "text/plain": [
       "        StarostniRazred    Spol  UraStoritve  DanVTednu\n",
       "2                 44-54   MOŠKI           15          2\n",
       "7                 54-64   MOŠKI           18          2\n",
       "8                 24-34   MOŠKI           18          2\n",
       "10                14-16   MOŠKI           16          6\n",
       "11                24-34  ŽENSKI           15          1\n",
       "...                 ...     ...          ...        ...\n",
       "1556131           34-44  ŽENSKI            0          2\n",
       "1556133           34-44  ŽENSKI           23          3\n",
       "1556134           16-18  ŽENSKI           23          3\n",
       "1556135           07-14  ŽENSKI           23          3\n",
       "1556136           00-07  ŽENSKI           23          3\n",
       "\n",
       "[625416 rows x 4 columns]"
      ]
     },
     "execution_count": 17,
     "metadata": {},
     "output_type": "execute_result"
    }
   ],
   "source": [
    "# atributi, ki nas zanimajo pri napovedovanju\n",
    "prediction_attr = poskodbe_df[['StarostniRazred', 'Spol', 'UraStoritve', 'DanVTednu']]\n",
    "\n",
    "print(f\"Atributi, ki jih bomo uporabili za napoved tipa poškodbe so: {prediction_attr.columns.values}\")\n",
    "print(\"\\nPrimer vrednosti:\")\n",
    "prediction_attr"
   ]
  },
  {
   "cell_type": "markdown",
   "id": "medium-device",
   "metadata": {},
   "source": [
    "Ker sta starostni razred in spol opisna kategorična podatka, jih moramo prej ustrezno pripraviti, da jih lahko uporabimo v učenju napovednega modela."
   ]
  },
  {
   "cell_type": "code",
   "execution_count": 18,
   "id": "freelance-renaissance",
   "metadata": {},
   "outputs": [],
   "source": [
    "# Priprava kategoricnega atributa\n",
    "def MapCategoryValues(df, attr):\n",
    "    value = 0\n",
    "    mapping = {}\n",
    "    for item in df[[attr]].squeeze().unique():\n",
    "        mapping[item] = value \n",
    "        value +=1\n",
    "    return mapping"
   ]
  },
  {
   "cell_type": "code",
   "execution_count": 19,
   "id": "handed-deadline",
   "metadata": {},
   "outputs": [
    {
     "name": "stdout",
     "output_type": "stream",
     "text": [
      "   StarostniRazred  Spol  UraStoritve  DanVTednu\n",
      "2            44-54     0           15          2\n",
      "7            54-64     0           18          2\n",
      "8            24-34     0           18          2\n",
      "10           14-16     0           16          6\n",
      "11           24-34     1           15          1\n",
      "13           18-24     1            9          7\n",
      "18           44-54     0            8          5\n",
      "20           24-34     0           13          2\n",
      "22           34-44     0            0          2\n",
      "23           24-34     0           15          5\n"
     ]
    },
    {
     "name": "stderr",
     "output_type": "stream",
     "text": [
      "<ipython-input-19-f0659502f75e>:3: SettingWithCopyWarning: \n",
      "A value is trying to be set on a copy of a slice from a DataFrame.\n",
      "Try using .loc[row_indexer,col_indexer] = value instead\n",
      "\n",
      "See the caveats in the documentation: https://pandas.pydata.org/pandas-docs/stable/user_guide/indexing.html#returning-a-view-versus-a-copy\n",
      "  prediction_attr[['Spol']] = prediction_attr.Spol.map(spolMapping)\n",
      "C:\\Users\\Martin\\miniconda3\\lib\\site-packages\\pandas\\core\\indexing.py:1745: SettingWithCopyWarning: \n",
      "A value is trying to be set on a copy of a slice from a DataFrame.\n",
      "Try using .loc[row_indexer,col_indexer] = value instead\n",
      "\n",
      "See the caveats in the documentation: https://pandas.pydata.org/pandas-docs/stable/user_guide/indexing.html#returning-a-view-versus-a-copy\n",
      "  isetter(ilocs[0], value)\n"
     ]
    }
   ],
   "source": [
    "spolMapping = MapCategoryValues(prediction_attr, 'Spol')\n",
    "\n",
    "prediction_attr[['Spol']] = prediction_attr.Spol.map(spolMapping)\n",
    "\n",
    "print(prediction_attr.head(10))"
   ]
  },
  {
   "cell_type": "code",
   "execution_count": 20,
   "id": "coupled-arbor",
   "metadata": {},
   "outputs": [
    {
     "name": "stderr",
     "output_type": "stream",
     "text": [
      "<ipython-input-20-c8d144db8946>:2: SettingWithCopyWarning: \n",
      "A value is trying to be set on a copy of a slice from a DataFrame.\n",
      "Try using .loc[row_indexer,col_indexer] = value instead\n",
      "\n",
      "See the caveats in the documentation: https://pandas.pydata.org/pandas-docs/stable/user_guide/indexing.html#returning-a-view-versus-a-copy\n",
      "  prediction_attr[['StarostniRazred']]= prediction_attr.StarostniRazred.map(starostMapping)\n",
      "C:\\Users\\Martin\\miniconda3\\lib\\site-packages\\pandas\\core\\indexing.py:1745: SettingWithCopyWarning: \n",
      "A value is trying to be set on a copy of a slice from a DataFrame.\n",
      "Try using .loc[row_indexer,col_indexer] = value instead\n",
      "\n",
      "See the caveats in the documentation: https://pandas.pydata.org/pandas-docs/stable/user_guide/indexing.html#returning-a-view-versus-a-copy\n",
      "  isetter(ilocs[0], value)\n"
     ]
    },
    {
     "data": {
      "text/html": [
       "<div>\n",
       "<style scoped>\n",
       "    .dataframe tbody tr th:only-of-type {\n",
       "        vertical-align: middle;\n",
       "    }\n",
       "\n",
       "    .dataframe tbody tr th {\n",
       "        vertical-align: top;\n",
       "    }\n",
       "\n",
       "    .dataframe thead th {\n",
       "        text-align: right;\n",
       "    }\n",
       "</style>\n",
       "<table border=\"1\" class=\"dataframe\">\n",
       "  <thead>\n",
       "    <tr style=\"text-align: right;\">\n",
       "      <th></th>\n",
       "      <th>StarostniRazred</th>\n",
       "      <th>Spol</th>\n",
       "      <th>UraStoritve</th>\n",
       "      <th>DanVTednu</th>\n",
       "    </tr>\n",
       "  </thead>\n",
       "  <tbody>\n",
       "    <tr>\n",
       "      <th>2</th>\n",
       "      <td>0</td>\n",
       "      <td>0</td>\n",
       "      <td>15</td>\n",
       "      <td>2</td>\n",
       "    </tr>\n",
       "    <tr>\n",
       "      <th>7</th>\n",
       "      <td>1</td>\n",
       "      <td>0</td>\n",
       "      <td>18</td>\n",
       "      <td>2</td>\n",
       "    </tr>\n",
       "    <tr>\n",
       "      <th>8</th>\n",
       "      <td>2</td>\n",
       "      <td>0</td>\n",
       "      <td>18</td>\n",
       "      <td>2</td>\n",
       "    </tr>\n",
       "    <tr>\n",
       "      <th>10</th>\n",
       "      <td>3</td>\n",
       "      <td>0</td>\n",
       "      <td>16</td>\n",
       "      <td>6</td>\n",
       "    </tr>\n",
       "    <tr>\n",
       "      <th>11</th>\n",
       "      <td>2</td>\n",
       "      <td>1</td>\n",
       "      <td>15</td>\n",
       "      <td>1</td>\n",
       "    </tr>\n",
       "    <tr>\n",
       "      <th>...</th>\n",
       "      <td>...</td>\n",
       "      <td>...</td>\n",
       "      <td>...</td>\n",
       "      <td>...</td>\n",
       "    </tr>\n",
       "    <tr>\n",
       "      <th>1556131</th>\n",
       "      <td>5</td>\n",
       "      <td>1</td>\n",
       "      <td>0</td>\n",
       "      <td>2</td>\n",
       "    </tr>\n",
       "    <tr>\n",
       "      <th>1556133</th>\n",
       "      <td>5</td>\n",
       "      <td>1</td>\n",
       "      <td>23</td>\n",
       "      <td>3</td>\n",
       "    </tr>\n",
       "    <tr>\n",
       "      <th>1556134</th>\n",
       "      <td>7</td>\n",
       "      <td>1</td>\n",
       "      <td>23</td>\n",
       "      <td>3</td>\n",
       "    </tr>\n",
       "    <tr>\n",
       "      <th>1556135</th>\n",
       "      <td>8</td>\n",
       "      <td>1</td>\n",
       "      <td>23</td>\n",
       "      <td>3</td>\n",
       "    </tr>\n",
       "    <tr>\n",
       "      <th>1556136</th>\n",
       "      <td>10</td>\n",
       "      <td>1</td>\n",
       "      <td>23</td>\n",
       "      <td>3</td>\n",
       "    </tr>\n",
       "  </tbody>\n",
       "</table>\n",
       "<p>625416 rows × 4 columns</p>\n",
       "</div>"
      ],
      "text/plain": [
       "         StarostniRazred  Spol  UraStoritve  DanVTednu\n",
       "2                      0     0           15          2\n",
       "7                      1     0           18          2\n",
       "8                      2     0           18          2\n",
       "10                     3     0           16          6\n",
       "11                     2     1           15          1\n",
       "...                  ...   ...          ...        ...\n",
       "1556131                5     1            0          2\n",
       "1556133                5     1           23          3\n",
       "1556134                7     1           23          3\n",
       "1556135                8     1           23          3\n",
       "1556136               10     1           23          3\n",
       "\n",
       "[625416 rows x 4 columns]"
      ]
     },
     "execution_count": 20,
     "metadata": {},
     "output_type": "execute_result"
    }
   ],
   "source": [
    "starostMapping = MapCategoryValues(prediction_attr, 'StarostniRazred')\n",
    "prediction_attr[['StarostniRazred']]= prediction_attr.StarostniRazred.map(starostMapping)\n",
    "prediction_attr"
   ]
  },
  {
   "cell_type": "code",
   "execution_count": 21,
   "id": "shaped-chapter",
   "metadata": {},
   "outputs": [
    {
     "name": "stdout",
     "output_type": "stream",
     "text": [
      "Model natreniran, natančnost modela: ~ 0.95437%\n"
     ]
    }
   ],
   "source": [
    "X = prediction_attr.values # data\n",
    "y = poskodbe_df['Poskodba'].values #target\n",
    "\n",
    "clf = RidgeClassifier()\n",
    "\n",
    "\n",
    "def trainModel(X, y):\n",
    "    X_train, X_test, y_train, y_test = train_test_split(X, y, test_size=0.25)\n",
    "    model = clf.fit(X_train, y_train)\n",
    "    model_acc = model.score(X_test, y_test)\n",
    "    print(f\"Model natreniran, natančnost modela: ~ {model_acc:0.5f}%\")\n",
    "    return model\n",
    "\n",
    "model = trainModel(X, y)"
   ]
  },
  {
   "cell_type": "markdown",
   "id": "collected-cache",
   "metadata": {},
   "source": [
    "### Napovedovanje z modelom\n",
    "\n",
    "Za napovedovanje bomo uporabili 5 primerov in sicer:\n",
    "\n",
    "```\n",
    "PRIMER 1 -> Žrtev je moški star 30 let in je žrtev kriminalnega dejanja v petek ob 20.00\n",
    "PRIMER 2 -> Žrtev je ženska stara 16 let in je žrtev kriminalnega dejanja v ponedeljek ob 08.00\n",
    "PRIMER 3 -> Žrtev je moški star 72 let in je žrtev kriminalnega dejanja v petek ob 20.00\n",
    "PRIMER 4 -> Žrtev je moški star 48 let in je žrtev kriminalnega dejanja v nedeljo ob 23.00\n",
    "PRIMER 5 -> Žrtev je ženska star 48 let in je žrtev kriminalnega dejanja v nedeljo ob 23.00\n",
    "```\n",
    "Za vstavljanje posamezih parametrov se moramo spomniti na mapping slovarje, ki smo jih ustvarili za preoblikovanje kategoričnih podatkov za starost in spol. Izpis mapping slovarja v JSON obliki:\n",
    "\n",
    "Kazalna (mapping) tabela za spol:\n",
    "```json\n",
    "{\n",
    "  \"MOŠKI\": 0,\n",
    "  \"ŽENSKI\": 1,\n",
    "  \"NEZNAN\": 2\n",
    "}\n",
    "```\n",
    "\n",
    "Kazalna (mapping) tabela za starostne skupine:\n",
    "```json\n",
    "{\n",
    "  \"44-54\": 0,\n",
    "  \"54-64\": 1,\n",
    "  \"24-34\": 2,\n",
    "  \"14-16\": 3,\n",
    "  \"18-24\": 4,\n",
    "  \"34-44\": 5,\n",
    "  \"NAD 64\": 6,\n",
    "  \"16-18\": 7,\n",
    "  \"07-14\": 8,\n",
    "  \"NI PODATKA\": 9,\n",
    "  \"00-07\": 10,\n",
    "  \"NI POJAVA\": 11\n",
    "}\n",
    "```"
   ]
  },
  {
   "cell_type": "code",
   "execution_count": 22,
   "id": "finite-background",
   "metadata": {},
   "outputs": [],
   "source": [
    "#print(\"Kazalna (mapping) tabela za spol:\\n\",json.dumps(spolMapping, sort_keys=False, indent=2, ensure_ascii=False))\n",
    "#print(\"\\nKazalna (mapping) tabela za starostne skupine:\\n\",json.dumps(starostMapping, sort_keys=False, indent=2, ensure_ascii=False))"
   ]
  },
  {
   "cell_type": "code",
   "execution_count": 23,
   "id": "focal-marathon",
   "metadata": {},
   "outputs": [
    {
     "name": "stdout",
     "output_type": "stream",
     "text": [
      "PRIMER 1 -> Žrtev je moški star 30 let in je žrtev kriminalnega dejanja v petek ob 20.00\n",
      "\n",
      "PRIMER 2 -> Žrtev je ženska stara 16 let in je žrtev kriminalnega dejanja v ponedeljek ob 08.00\n",
      "\n",
      "PRIMER 3 -> Žrtev je moški star 72 let in je žrtev kriminalnega dejanja v petek ob 20.00\n",
      "\n",
      "PRIMER 4 -> Žrtev je moški star 48 let in je žrtev kriminalnega dejanja v nedeljo ob 23.00\n",
      "\n",
      "PRIMER 5 -> Žrtev je ženska star 48 let in je žrtev kriminalnega dejanja v nedeljo ob 23.00\n",
      "\n",
      "Primeri z vneseni v vektorje upoštevajoč mapping tabele\n",
      " [[ 2  0 20  5]\n",
      " [ 3  1  8  1]\n",
      " [ 6  0 20  5]\n",
      " [ 0  0 22  7]\n",
      " [ 0  1 22  7]]\n"
     ]
    }
   ],
   "source": [
    "#Primeri\n",
    "p1_text = \"PRIMER 1 -> Žrtev je moški star 30 let in je žrtev kriminalnega dejanja v petek ob 20.00\"\n",
    "p2_text = \"PRIMER 2 -> Žrtev je ženska stara 16 let in je žrtev kriminalnega dejanja v ponedeljek ob 08.00\"\n",
    "p3_text = \"PRIMER 3 -> Žrtev je moški star 72 let in je žrtev kriminalnega dejanja v petek ob 20.00\"\n",
    "p4_text = \"PRIMER 4 -> Žrtev je moški star 48 let in je žrtev kriminalnega dejanja v nedeljo ob 23.00\"\n",
    "p5_text = \"PRIMER 5 -> Žrtev je ženska star 48 let in je žrtev kriminalnega dejanja v nedeljo ob 23.00\"\n",
    "\n",
    "primeri_text = [p1_text, p2_text, p3_text, p4_text, p5_text]\n",
    "\n",
    "def primeriToString(primeri_text):\n",
    "    for primer in primeri_text:\n",
    "        print(primer + \"\\n\")\n",
    "primeriToString(primeri_text)\n",
    "\n",
    "def prettyPrintPrediction(primeri_text, predictions):\n",
    "    i = 0\n",
    "    for primer in primeri_text:\n",
    "        txt = primer.split(\"->\")[1]\n",
    "        print(txt + \" -> \" + predictions[i])\n",
    "        i += 1\n",
    "        \n",
    "# Primeri z vneseni v vektorje upoštevajoč mapping tabele\n",
    "\n",
    "p1 = np.array([2, 0, 20, 5])\n",
    "\n",
    "p2 = np.array([3, 1, 8, 1])\n",
    "\n",
    "p3 = np.array([6, 0, 20, 5])\n",
    "\n",
    "p4 = np.array([0, 0, 22, 7])\n",
    "\n",
    "p5 = np.array([0, 1, 22, 7])\n",
    "\n",
    "primeri = np.array([p1, p2, p3, p4 , p5])\n",
    "\n",
    "print(\"Primeri z vneseni v vektorje upoštevajoč mapping tabele\\n\", primeri)"
   ]
  },
  {
   "cell_type": "code",
   "execution_count": 24,
   "id": "individual-damages",
   "metadata": {},
   "outputs": [
    {
     "name": "stdout",
     "output_type": "stream",
     "text": [
      " Žrtev je moški star 30 let in je žrtev kriminalnega dejanja v petek ob 20.00 -> BREZ POŠKODBE\n",
      " Žrtev je ženska stara 16 let in je žrtev kriminalnega dejanja v ponedeljek ob 08.00 -> BREZ POŠKODBE\n",
      " Žrtev je moški star 72 let in je žrtev kriminalnega dejanja v petek ob 20.00 -> BREZ POŠKODBE\n",
      " Žrtev je moški star 48 let in je žrtev kriminalnega dejanja v nedeljo ob 23.00 -> BREZ POŠKODBE\n",
      " Žrtev je ženska star 48 let in je žrtev kriminalnega dejanja v nedeljo ob 23.00 -> BREZ POŠKODBE\n"
     ]
    }
   ],
   "source": [
    "predictions = model.predict(primeri)\n",
    "prettyPrintPrediction(primeri_text, predictions)"
   ]
  },
  {
   "cell_type": "markdown",
   "id": "colored-peter",
   "metadata": {},
   "source": [
    "Po pričakovanjih je model za vseh **5** namišljenih primerov napovedal, da bo žrtev kriminalno dejanje odneslo **BREZ POŠKODBE**, kar je razvidno tudi iz historičnih podatkov, saj kar v **95.4%** kriminalnih dejanjih v Sloveniji ni poškodb žrtev.\n",
    "\n",
    "Na podlagi ugotovljenega, nas je zanimalo kakšne pa napovedi za primere, ko pa so poškodbe neizogibne.\n",
    "\n",
    "### Prilagodimo model na napovedovanje kritičnosti poškodbe\n",
    "\n",
    "**Ponovimo postopek, vendar tokrat upoštevamo zgolj kriminalna dejanja, kjer je prišlo do poškodbe.**"
   ]
  },
  {
   "cell_type": "code",
   "execution_count": 25,
   "id": "portable-israel",
   "metadata": {},
   "outputs": [
    {
     "name": "stdout",
     "output_type": "stream",
     "text": [
      "Tabelaričen prikaz število kaznivih dejanj glede na vrsto poškodbe.\n",
      "\n",
      "                    Poskodba  Število poškodb  Delež (v %)\n",
      "0     LAHKA TELESNA POŠKODBA            25398    88.261051\n",
      "1      HUDA TELESNA POŠKODBA             2609     9.066583\n",
      "2            SMRTNA POŠKODBA              627     2.178899\n",
      "3  POSEBNO HUDA TEL.POŠKODBA              142     0.493467\n"
     ]
    }
   ],
   "source": [
    "poskodbe_df = poskodbe_df.loc[(~df['Poskodba'].isin(['Ni podatka', 'BREZ POŠKODBE']))]\n",
    "print(\"Tabelaričen prikaz število kaznivih dejanj glede na vrsto poškodbe.\\n\")\n",
    "tab = tabelaricniPrikazPoskodb(poskodbe_df)\n",
    "print(tab)"
   ]
  },
  {
   "cell_type": "code",
   "execution_count": 26,
   "id": "paperback-display",
   "metadata": {},
   "outputs": [
    {
     "data": {
      "image/jpeg": "[encoded data removed]",
      "text/plain": [
       "<Figure size 960x800 with 1 Axes>"
      ]
     },
     "metadata": {
      "needs_background": "light"
     },
     "output_type": "display_data"
    }
   ],
   "source": [
    "izrisTreemapaPoskodb(poskodbe_df, tab, colors=['steelblue', 'lightcoral', 'black', 'orange'])"
   ]
  },
  {
   "cell_type": "code",
   "execution_count": 27,
   "id": "formal-sugar",
   "metadata": {},
   "outputs": [
    {
     "name": "stdout",
     "output_type": "stream",
     "text": [
      "Model natreniran, natančnost modela: ~ 0.87795%\n"
     ]
    },
    {
     "name": "stderr",
     "output_type": "stream",
     "text": [
      "<ipython-input-27-80c706d293e1>:3: SettingWithCopyWarning: \n",
      "A value is trying to be set on a copy of a slice from a DataFrame.\n",
      "Try using .loc[row_indexer,col_indexer] = value instead\n",
      "\n",
      "See the caveats in the documentation: https://pandas.pydata.org/pandas-docs/stable/user_guide/indexing.html#returning-a-view-versus-a-copy\n",
      "  prediction_attr[['Spol']] = prediction_attr.Spol.map(spolMapping)\n",
      "C:\\Users\\Martin\\miniconda3\\lib\\site-packages\\pandas\\core\\indexing.py:1745: SettingWithCopyWarning: \n",
      "A value is trying to be set on a copy of a slice from a DataFrame.\n",
      "Try using .loc[row_indexer,col_indexer] = value instead\n",
      "\n",
      "See the caveats in the documentation: https://pandas.pydata.org/pandas-docs/stable/user_guide/indexing.html#returning-a-view-versus-a-copy\n",
      "  isetter(ilocs[0], value)\n",
      "<ipython-input-27-80c706d293e1>:4: SettingWithCopyWarning: \n",
      "A value is trying to be set on a copy of a slice from a DataFrame.\n",
      "Try using .loc[row_indexer,col_indexer] = value instead\n",
      "\n",
      "See the caveats in the documentation: https://pandas.pydata.org/pandas-docs/stable/user_guide/indexing.html#returning-a-view-versus-a-copy\n",
      "  prediction_attr[['StarostniRazred']] = prediction_attr.StarostniRazred.map(starostMapping)\n"
     ]
    }
   ],
   "source": [
    "prediction_attr = poskodbe_df[['StarostniRazred', 'Spol', 'UraStoritve', 'DanVTednu']]\n",
    "\n",
    "prediction_attr[['Spol']] = prediction_attr.Spol.map(spolMapping)\n",
    "prediction_attr[['StarostniRazred']] = prediction_attr.StarostniRazred.map(starostMapping)\n",
    "\n",
    "X = prediction_attr.values # data\n",
    "y = poskodbe_df['Poskodba'].values # target\n",
    "\n",
    "model1 = trainModel(X, y)"
   ]
  },
  {
   "cell_type": "code",
   "execution_count": 28,
   "id": "stopped-august",
   "metadata": {
    "scrolled": true
   },
   "outputs": [
    {
     "name": "stdout",
     "output_type": "stream",
     "text": [
      " Žrtev je moški star 30 let in je žrtev kriminalnega dejanja v petek ob 20.00 -> LAHKA TELESNA POŠKODBA\n",
      " Žrtev je ženska stara 16 let in je žrtev kriminalnega dejanja v ponedeljek ob 08.00 -> LAHKA TELESNA POŠKODBA\n",
      " Žrtev je moški star 72 let in je žrtev kriminalnega dejanja v petek ob 20.00 -> LAHKA TELESNA POŠKODBA\n",
      " Žrtev je moški star 48 let in je žrtev kriminalnega dejanja v nedeljo ob 23.00 -> LAHKA TELESNA POŠKODBA\n",
      " Žrtev je ženska star 48 let in je žrtev kriminalnega dejanja v nedeljo ob 23.00 -> LAHKA TELESNA POŠKODBA\n"
     ]
    }
   ],
   "source": [
    "prediction2 = model1.predict(primeri)\n",
    "prettyPrintPrediction(primeri_text, prediction2)"
   ]
  },
  {
   "cell_type": "markdown",
   "id": "configured-crisis",
   "metadata": {},
   "source": [
    "Po pričakovanjih je model za vseh **5** namišljenih primerov napovedal, da bo žrtev kriminalno dejanje odneslo **LAHKA TELESNA POŠKODBA**, kar je razvidno tudi iz historičnih podatkov, saj kar v **88.3%** kriminalnih dejanjih v Sloveniji, kjer gre za poškodbo žrtve je le ta lažja."
   ]
  },
  {
   "cell_type": "code",
   "execution_count": null,
   "id": "occupational-jamaica",
   "metadata": {
    "scrolled": true
   },
   "outputs": [],
   "source": []
  },
  {
   "cell_type": "code",
   "execution_count": null,
   "id": "printable-surfing",
   "metadata": {},
   "outputs": [],
   "source": []
  }
 ],
 "metadata": {
  "kernelspec": {
   "display_name": "Python 3",
   "language": "python",
   "name": "python3"
  },
  "language_info": {
   "codemirror_mode": {
    "name": "ipython",
    "version": 3
   },
   "file_extension": ".py",
   "mimetype": "text/x-python",
   "name": "python",
   "nbconvert_exporter": "python",
   "pygments_lexer": "ipython3",
   "version": "3.8.5"
  },
  "latex_envs": {
   "LaTeX_envs_menu_present": true,
   "autoclose": false,
   "autocomplete": true,
   "bibliofile": "biblio.bib",
   "cite_by": "apalike",
   "current_citInitial": 1,
   "eqLabelWithNumbers": true,
   "eqNumInitial": 1,
   "hotkeys": {
    "equation": "Ctrl-E",
    "itemize": "Ctrl-I"
   },
   "labels_anchors": false,
   "latex_user_defs": false,
   "report_style_numbering": false,
   "user_envs_cfg": false
  },
  "nbTranslate": {
   "displayLangs": [
    "*"
   ],
   "hotkey": "alt-t",
   "langInMainMenu": true,
   "sourceLang": "en",
   "targetLang": "fr",
   "useGoogleTranslate": true
  }
 },
 "nbformat": 4,
 "nbformat_minor": 5
}
