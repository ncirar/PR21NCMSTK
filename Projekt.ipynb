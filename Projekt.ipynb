{
 "cells": [
  {
   "cell_type": "markdown",
   "id": "comfortable-victorian",
   "metadata": {},
   "source": [
    "# KAZNIVA DEJANJA V SLOVENIJI\n",
    "\n",
    "## 1. Predstavitev in predprocesiranje podatkov"
   ]
  },
  {
   "cell_type": "code",
   "execution_count": 3,
   "id": "optimum-collar",
   "metadata": {},
   "outputs": [
    {
     "name": "stdout",
     "output_type": "stream",
     "text": [
      "0         SOBOTA\n",
      "1          PETEK\n",
      "2          PETEK\n",
      "3          SREDA\n",
      "4          SREDA\n",
      "           ...  \n",
      "105340     SREDA\n",
      "105341     SREDA\n",
      "105342     SREDA\n",
      "105343     PETEK\n",
      "105344     PETEK\n",
      "Name: DanVTednu, Length: 105345, dtype: object\n"
     ]
    }
   ],
   "source": [
    "import pandas as pd\n",
    "\n",
    "df = pd.read_csv(\"data/kd2019.csv\", delimiter=\";\")\n",
    "print(df[\"DanVTednu\"])"
   ]
  },
  {
   "cell_type": "markdown",
   "id": "painful-aquarium",
   "metadata": {},
   "source": [
    "## 2. Osnovna vizualizacija"
   ]
  },
  {
   "cell_type": "code",
   "execution_count": null,
   "id": "regular-galaxy",
   "metadata": {},
   "outputs": [],
   "source": []
  }
 ],
 "metadata": {
  "kernelspec": {
   "display_name": "Python 3",
   "language": "python",
   "name": "python3"
  },
  "language_info": {
   "codemirror_mode": {
    "name": "ipython",
    "version": 3
   },
   "file_extension": ".py",
   "mimetype": "text/x-python",
   "name": "python",
   "nbconvert_exporter": "python",
   "pygments_lexer": "ipython3",
   "version": "3.9.2"
  }
 },
 "nbformat": 4,
 "nbformat_minor": 5
}
